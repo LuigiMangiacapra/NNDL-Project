{
 "cells": [
  {
   "cell_type": "code",
   "execution_count": 1,
   "metadata": {},
   "outputs": [],
   "source": [
    "import numpy as np\n",
    "import neuralNetwork as nn\n",
    "import learningFunctions as lnf\n",
    "import errorFunctions as errfun\n",
    "import activationFunctions as actfun\n",
    "import datasets as ds\n",
    "import matplotlib.pyplot as plt\n",
    "import pandas as pd\n",
    "import os"
   ]
  },
  {
   "cell_type": "code",
   "execution_count": 2,
   "metadata": {},
   "outputs": [],
   "source": [
    "#Costruzione path del dataset\n",
    "current_path = os.getcwd()\n",
    "data_path = os.path.join(current_path, 'Data')\n",
    "train_file_path = os.path.join(data_path, \"mnist_train.csv\")\n",
    "test_file_path = os.path.join(data_path, \"mnist_test.csv\")"
   ]
  },
  {
   "cell_type": "code",
   "execution_count": 3,
   "metadata": {},
   "outputs": [],
   "source": [
    "#Lettura csv con pandas\n",
    "train_data = pd.read_csv(train_file_path)\n",
    "test_data = pd.read_csv(test_file_path)"
   ]
  },
  {
   "cell_type": "code",
   "execution_count": 4,
   "metadata": {},
   "outputs": [],
   "source": [
    "#Ottenimento array per il training e il testing\n",
    "train_array = np.array(train_data)\n",
    "test_array = np.array(test_data)"
   ]
  },
  {
   "cell_type": "code",
   "execution_count": 5,
   "metadata": {},
   "outputs": [],
   "source": [
    "#Estrapoliamo il numero di righe e di colonne di train e test\n",
    "m, n = train_array.shape \n",
    "mtest, ntest = test_array.shape  \n",
    "\n",
    "#Mescola casualmente i dati prima di suddividerli in set di sviluppo e training\n",
    "np.random.shuffle(train_array)  "
   ]
  },
  {
   "cell_type": "code",
   "execution_count": 6,
   "metadata": {},
   "outputs": [],
   "source": [
    "#Calcolo percentuale dati per il validation set\n",
    "val_percentage = 0.20\n",
    "val_index = int(np.ceil(m * val_percentage))\n",
    "\n",
    "#Distribuzione training, validation e test set\n",
    "Xval, Yval = ds.get_mnist_validation(train_array, n, val_index)\n",
    "Xtrain, Ytrain = ds.get_mnist_training(train_array, n, m, val_index)\n",
    "Xtest, Ytest = ds.get_mnist_testing(test_array, ntest, mtest)"
   ]
  },
  {
   "cell_type": "code",
   "execution_count": 7,
   "metadata": {},
   "outputs": [],
   "source": [
    "#Creazione rete neurale\n",
    "#Assegnazione funzioni di attivazione per ogni strato della rete\n",
    "hidden_activation_functions = [actfun.relu]\n",
    "#Assegnazione numero di neuroni per ogni strato\n",
    "hidden_layers = [100]\n",
    "#Assegnazione della funzione di attivazione e di errore per l'ultimo strato della rete\n",
    "output_activation_function = actfun.identity\n",
    "error_function = errfun.cross_entropy_softmax\n",
    "#Estrazione input e target\n",
    "input_layer_size = Xtrain.shape[0]\n",
    "output_layer_size = Ytrain.shape[0]\n",
    "network = nn.NeuralNetwork(hidden_activation_functions, output_activation_function, error_function,\n",
    "                input_layer_size, hidden_layers, output_layer_size)\n"
   ]
  },
  {
   "cell_type": "code",
   "execution_count": 8,
   "metadata": {},
   "outputs": [
    {
     "name": "stdout",
     "output_type": "stream",
     "text": [
      "num_hidden_layers:  1\n",
      "input_size:  784\n",
      "output_size:  10\n",
      "neurons in hidden layers:\n",
      "100\n",
      "activation functions:\n",
      "relu\n",
      "identity\n",
      "error_function: cross_entropy_softmax\n"
     ]
    }
   ],
   "source": [
    "#Copia la rete principale in una per il training\n",
    "training_net=lnf.duplicate_network(network)\n",
    "lnf.get_net_structure(training_net)"
   ]
  },
  {
   "cell_type": "code",
   "execution_count": 9,
   "metadata": {},
   "outputs": [
    {
     "name": "stdout",
     "output_type": "stream",
     "text": [
      "0/40, Training Accuracy: 0.08316839934165295, Validation Accuracy: 0.08509042420201683\n",
      "40/40, Training Accuracy: 0.9760620012916936, Validation Accuracy: 0.9521626802233519\r"
     ]
    }
   ],
   "source": [
    "#batch training\n",
    "err,errV=lnf.train_neural_network(training_net,Xtrain,Ytrain,Xval,Yval,max_epochs=40,learning_rate=0.00001)"
   ]
  },
  {
   "cell_type": "code",
   "execution_count": 10,
   "metadata": {},
   "outputs": [
    {
     "data": {
      "image/png": "[encoded data removed]",
      "text/plain": [
       "<Figure size 640x480 with 1 Axes>"
      ]
     },
     "metadata": {},
     "output_type": "display_data"
    }
   ],
   "source": [
    "#Stampa grafico dell'errore ottenuto attraverso il training\n",
    "plt.figure()\n",
    "plt.plot(errV, 'r', label='Validation Error')\n",
    "plt.plot(err, 'b', label='Training Error')\n",
    "plt.xlabel('Epochs')\n",
    "plt.ylabel('Error')\n",
    "plt.legend()\n",
    "plt.show()"
   ]
  },
  {
   "cell_type": "code",
   "execution_count": 13,
   "metadata": {},
   "outputs": [
    {
     "ename": "AttributeError",
     "evalue": "module 'learningFunctions' has no attribute 'network_accuracy'",
     "output_type": "error",
     "traceback": [
      "\u001b[1;31m---------------------------------------------------------------------------\u001b[0m",
      "\u001b[1;31mAttributeError\u001b[0m                            Traceback (most recent call last)",
      "Cell \u001b[1;32mIn[13], line 2\u001b[0m\n\u001b[0;32m      1\u001b[0m \u001b[38;5;66;03m#Stampa accuracy per training e test set\u001b[39;00m\n\u001b[1;32m----> 2\u001b[0m acc\u001b[38;5;241m=\u001b[39m\u001b[43mlnf\u001b[49m\u001b[38;5;241;43m.\u001b[39;49m\u001b[43mnetwork_accuracy\u001b[49m(training_net,Xtest,Ytest)\n\u001b[0;32m      3\u001b[0m \u001b[38;5;28mprint\u001b[39m(\u001b[38;5;124m'\u001b[39m\u001b[38;5;124mtest accuracy: \u001b[39m\u001b[38;5;124m'\u001b[39m,acc)\n\u001b[0;32m      4\u001b[0m acc\u001b[38;5;241m=\u001b[39mlnf\u001b[38;5;241m.\u001b[39mnetwork_accuracy(training_net,Xtrain,Ytrain)\n",
      "\u001b[1;31mAttributeError\u001b[0m: module 'learningFunctions' has no attribute 'network_accuracy'"
     ]
    }
   ],
   "source": [
    "#Stampa accuracy per training e test set\n",
    "accuracy_test=lnf.network_accuracy(training_net,Xtest,Ytest)\n",
    "print('test accuracy: ',accuracy_test)\n",
    "accuracy_training=lnf.network_accuracy(training_net,Xtrain,Ytrain)\n",
    "print('train accuracy: ',accuracy_training)"
   ]
  },
  {
   "cell_type": "code",
   "execution_count": 12,
   "metadata": {},
   "outputs": [
    {
     "name": "stdout",
     "output_type": "stream",
     "text": [
      "y_net: [[0.00000000e+000]\n",
      " [0.00000000e+000]\n",
      " [1.99346203e-075]\n",
      " [4.90591960e-079]\n",
      " [0.00000000e+000]\n",
      " [1.00000000e+000]\n",
      " [3.24536230e-176]\n",
      " [1.22097767e-266]\n",
      " [9.19440147e-233]\n",
      " [4.54394400e-211]]\n",
      "y_net_trained: [[0.]\n",
      " [0.]\n",
      " [0.]\n",
      " [0.]\n",
      " [0.]\n",
      " [0.]\n",
      " [0.]\n",
      " [0.]\n",
      " [0.]\n",
      " [1.]]\n"
     ]
    },
    {
     "data": {
      "image/png": "[encoded data removed]",
      "text/plain": [
       "<Figure size 640x480 with 1 Axes>"
      ]
     },
     "metadata": {},
     "output_type": "display_data"
    }
   ],
   "source": [
    "#Predizione rete senza addestramento e rete addestrata\n",
    "x = 8898\n",
    "lnf.test_prediction(network, training_net, x, Xtest)"
   ]
  }
 ],
 "metadata": {
  "kernelspec": {
   "display_name": "Python 3",
   "language": "python",
   "name": "python3"
  },
  "language_info": {
   "codemirror_mode": {
    "name": "ipython",
    "version": 3
   },
   "file_extension": ".py",
   "mimetype": "text/x-python",
   "name": "python",
   "nbconvert_exporter": "python",
   "pygments_lexer": "ipython3",
   "version": "3.10.11"
  }
 },
 "nbformat": 4,
 "nbformat_minor": 2
}
