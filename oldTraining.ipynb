{
 "cells": [
  {
   "cell_type": "code",
   "execution_count": 1,
   "metadata": {},
   "outputs": [],
   "source": [
    "import numpy as np\n",
    "import networkLibraries as netlib\n",
    "import errorFunctions as errfun\n",
    "import activationFunctions as actfun\n",
    "import datasets as ds\n",
    "import matplotlib.pyplot as plt\n",
    "import pandas as pd\n",
    "import os"
   ]
  },
  {
   "cell_type": "code",
   "execution_count": 2,
   "metadata": {},
   "outputs": [],
   "source": [
    "#Costruzione path\n",
    "current_path = os.getcwd()\n",
    "data_path = os.path.join(current_path, 'Data')\n",
    "train_file_path = os.path.join(data_path, \"mnist_train.csv\")\n",
    "test_file_path = os.path.join(data_path, \"mnist_test.csv\")"
   ]
  },
  {
   "cell_type": "code",
   "execution_count": 3,
   "metadata": {},
   "outputs": [],
   "source": [
    "#Lettura csv\n",
    "train_data = pd.read_csv(train_file_path)\n",
    "test_data = pd.read_csv(test_file_path)"
   ]
  },
  {
   "cell_type": "code",
   "execution_count": 4,
   "metadata": {},
   "outputs": [],
   "source": [
    "#Ottenimento array per il training e il testing\n",
    "train_array = np.array(train_data)\n",
    "test_array = np.array(test_data)"
   ]
  },
  {
   "cell_type": "code",
   "execution_count": 5,
   "metadata": {},
   "outputs": [],
   "source": [
    "#Estrapoliamo il numero di righe e di colonne di train e test\n",
    "m, n = train_array.shape \n",
    "mtest, ntest = test_array.shape  \n",
    "\n",
    "np.random.shuffle(train_array)  # Mescola casualmente i dati prima di suddividerli in set di sviluppo e training"
   ]
  },
  {
   "cell_type": "code",
   "execution_count": 6,
   "metadata": {},
   "outputs": [
    {
     "name": "stdout",
     "output_type": "stream",
     "text": [
      "(784, 47999) (10, 47999) (784, 11999) (10, 11999) (784, 9999) (10, 9999)\n"
     ]
    }
   ],
   "source": [
    "Xval, Yval = ds.get_mnist_validation(train_array, n)\n",
    "Xtrain, Ytrain = ds.get_mnist_training(train_array, n, m)\n",
    "Xtest, Ytest = ds.get_mnist_testing(test_array, ntest, mtest)\n",
    "print(Xtrain.shape, Ytrain.shape, Xval.shape, Yval.shape, Xtest.shape, Ytest.shape)"
   ]
  },
  {
   "cell_type": "code",
   "execution_count": 7,
   "metadata": {},
   "outputs": [
    {
     "ename": "AttributeError",
     "evalue": "module 'activationFunctions' has no attribute 'softmax'",
     "output_type": "error",
     "traceback": [
      "\u001b[1;31m---------------------------------------------------------------------------\u001b[0m",
      "\u001b[1;31mAttributeError\u001b[0m                            Traceback (most recent call last)",
      "Cell \u001b[1;32mIn[7], line 7\u001b[0m\n\u001b[0;32m      4\u001b[0m \u001b[38;5;66;03m#mylib.set_activation_function(mia_net, activation_function=myact.tanh, layer_type=1)\u001b[39;00m\n\u001b[0;32m      5\u001b[0m \u001b[38;5;66;03m#mylib.set_activation_function(mia_net, activation_function=myact.relu, layer_type=1)\u001b[39;00m\n\u001b[0;32m      6\u001b[0m netlib\u001b[38;5;241m.\u001b[39mset_activation_function(mia_net, activation_function\u001b[38;5;241m=\u001b[39mactfun\u001b[38;5;241m.\u001b[39mleaky_relu, layer_type\u001b[38;5;241m=\u001b[39m\u001b[38;5;241m1\u001b[39m)\n\u001b[1;32m----> 7\u001b[0m netlib\u001b[38;5;241m.\u001b[39mset_activation_function(mia_net, activation_function\u001b[38;5;241m=\u001b[39m\u001b[43mactfun\u001b[49m\u001b[38;5;241;43m.\u001b[39;49m\u001b[43msoftmax\u001b[49m, layer_type\u001b[38;5;241m=\u001b[39m\u001b[38;5;241m2\u001b[39m)\n\u001b[0;32m      9\u001b[0m netlib\u001b[38;5;241m.\u001b[39mget_net_structure(mia_net,show\u001b[38;5;241m=\u001b[39m\u001b[38;5;241m1\u001b[39m)\n",
      "\u001b[1;31mAttributeError\u001b[0m: module 'activationFunctions' has no attribute 'softmax'"
     ]
    }
   ],
   "source": [
    "#A neural network with just one hidden layer is created\n",
    "NUM_HIDDEN_NEURONS=[50, 50, 50, 50, 50]\n",
    "mia_net=netlib.new_network(Xtrain.shape[0],NUM_HIDDEN_NEURONS,Ytrain.shape[0])\n",
    "#mylib.set_activation_function(mia_net, activation_function=myact.tanh, layer_type=1)\n",
    "#mylib.set_activation_function(mia_net, activation_function=myact.relu, layer_type=1)\n",
    "netlib.set_activation_function(mia_net, activation_function=actfun.leaky_relu, layer_type=1)\n",
    "\n",
    "netlib.get_net_structure(mia_net,show=1)"
   ]
  },
  {
   "cell_type": "code",
   "execution_count": null,
   "metadata": {},
   "outputs": [
    {
     "name": "stdout",
     "output_type": "stream",
     "text": [
      "num_hidden_layers:  5\n",
      "input_size:  784\n",
      "output_size:  10\n",
      "neurons in hidden layers:\n",
      "50\n",
      "50\n",
      "50\n",
      "50\n",
      "50\n",
      "activation functions:\n",
      "leaky_relu\n",
      "leaky_relu\n",
      "leaky_relu\n",
      "leaky_relu\n",
      "leaky_relu\n",
      "identity\n"
     ]
    }
   ],
   "source": [
    "#A copy of the network is made, so one can restore the original neural network,\n",
    "# if one wants\n",
    "train_mia_net=netlib.duplicateNetwork(mia_net)\n",
    "netlib.get_net_structure(train_mia_net,show=1)"
   ]
  },
  {
   "cell_type": "code",
   "execution_count": null,
   "metadata": {},
   "outputs": [
    {
     "name": "stdout",
     "output_type": "stream",
     "text": [
      "Epoch: 0 Train Err: 110522.9206995718 Train Accuracy: 0.09937707035563241 Val Err: 27628.937570312373 Val Accuracy: 0.0990082506875573\n",
      "Epoch: 150 Train Err: 4562.901754649353 Train Accuracy: 0.9719785828871434 Val Err: 4404.7033797738995 Val Accuracy: 0.936828069005750495\r"
     ]
    }
   ],
   "source": [
    "\n",
    "#batch training\n",
    "err,errV=netlib.trainingPhase(train_mia_net,Xtrain,Ytrain,Xval,Yval,maxNumEpoches=150,errFun= errfun.crossEntropyMCSoftMax,eta=0.00001)"
   ]
  },
  {
   "cell_type": "code",
   "execution_count": null,
   "metadata": {},
   "outputs": [
    {
     "data": {
      "image/png": "[encoded data removed]",
      "text/plain": [
       "<Figure size 640x480 with 1 Axes>"
      ]
     },
     "metadata": {},
     "output_type": "display_data"
    }
   ],
   "source": [
    "plt.figure()\n",
    "plt.plot(errV, 'r', label='Validation Error')\n",
    "plt.plot(err, 'b', label='Training Error')\n",
    "plt.xlabel('Epochs')\n",
    "plt.ylabel('Error')\n",
    "plt.legend()\n",
    "plt.show()"
   ]
  },
  {
   "cell_type": "code",
   "execution_count": null,
   "metadata": {},
   "outputs": [
    {
     "name": "stdout",
     "output_type": "stream",
     "text": [
      "test accuracy:  0.9246924692469247\n",
      "train accuracy:  0.9588533094439468\n"
     ]
    }
   ],
   "source": [
    "#Accuracy on both the training and test set\n",
    "acc=netlib.netAccuracy(train_mia_net,Xtest,Ytest)\n",
    "print('test accuracy: ',acc)\n",
    "acc=netlib.netAccuracy(train_mia_net,Xtrain,Ytrain)\n",
    "print('train accuracy: ',acc)"
   ]
  },
  {
   "cell_type": "code",
   "execution_count": null,
   "metadata": {},
   "outputs": [
    {
     "name": "stdout",
     "output_type": "stream",
     "text": [
      "Prediction:  [[ 35.85688156]\n",
      " [  5.92782912]\n",
      " [ 92.00759299]\n",
      " [-51.55757036]\n",
      " [ 90.79409355]\n",
      " [-65.55696688]\n",
      " [107.46803713]\n",
      " [  3.30569004]\n",
      " [-43.0953686 ]\n",
      " [ -7.77422655]]\n",
      "Label:  [0 0 0 ... 0 0 0]\n"
     ]
    },
    {
     "data": {
      "image/png": "[encoded data removed]",
      "text/plain": [
       "<Figure size 640x480 with 1 Axes>"
      ]
     },
     "metadata": {},
     "output_type": "display_data"
    }
   ],
   "source": [
    "#netlib.test_prediction(0, train_mia_net, Xtrain, Ytrain)"
   ]
  }
 ],
 "metadata": {
  "kernelspec": {
   "display_name": "Python 3",
   "language": "python",
   "name": "python3"
  },
  "language_info": {
   "codemirror_mode": {
    "name": "ipython",
    "version": 3
   },
   "file_extension": ".py",
   "mimetype": "text/x-python",
   "name": "python",
   "nbconvert_exporter": "python",
   "pygments_lexer": "ipython3",
   "version": "3.10.11"
  }
 },
 "nbformat": 4,
 "nbformat_minor": 2
}
